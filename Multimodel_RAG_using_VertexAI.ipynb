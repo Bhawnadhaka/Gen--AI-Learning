{
  "nbformat": 4,
  "nbformat_minor": 0,
  "metadata": {
    "colab": {
      "provenance": [],
      "authorship_tag": "ABX9TyPsznX/MB8PZyYu5BKQgHlG",
      "include_colab_link": true
    },
    "kernelspec": {
      "name": "python3",
      "display_name": "Python 3"
    },
    "language_info": {
      "name": "python"
    }
  },
  "cells": [
    {
      "cell_type": "markdown",
      "metadata": {
        "id": "view-in-github",
        "colab_type": "text"
      },
      "source": [
        "<a href=\"https://colab.research.google.com/github/Bhawnadhaka/Gen--AI-Learning/blob/main/Multimodel_RAG_using_VertexAI.ipynb\" target=\"_parent\"><img src=\"https://colab.research.google.com/assets/colab-badge.svg\" alt=\"Open In Colab\"/></a>"
      ]
    },
    {
      "cell_type": "code",
      "execution_count": 14,
      "metadata": {
        "colab": {
          "base_uri": "https://localhost:8080/"
        },
        "id": "GJW_Szrv4U4L",
        "outputId": "71f438a3-3950-41fa-b58d-2ee8adf677ef"
      },
      "outputs": [
        {
          "output_type": "stream",
          "name": "stdout",
          "text": [
            "Requirement already satisfied: google-cloud-aiplatform in /root/.local/lib/python3.11/site-packages (1.103.0)\n",
            "Requirement already satisfied: google-api-core!=2.0.*,!=2.1.*,!=2.2.*,!=2.3.*,!=2.4.*,!=2.5.*,!=2.6.*,!=2.7.*,<3.0.0,>=1.34.1 in /usr/local/lib/python3.11/dist-packages (from google-api-core[grpc]!=2.0.*,!=2.1.*,!=2.2.*,!=2.3.*,!=2.4.*,!=2.5.*,!=2.6.*,!=2.7.*,<3.0.0,>=1.34.1->google-cloud-aiplatform) (2.25.1)\n",
            "Requirement already satisfied: google-auth<3.0.0,>=2.14.1 in /usr/local/lib/python3.11/dist-packages (from google-cloud-aiplatform) (2.38.0)\n",
            "Requirement already satisfied: proto-plus<2.0.0,>=1.22.3 in /usr/local/lib/python3.11/dist-packages (from google-cloud-aiplatform) (1.26.1)\n",
            "Requirement already satisfied: protobuf!=4.21.0,!=4.21.1,!=4.21.2,!=4.21.3,!=4.21.4,!=4.21.5,<7.0.0,>=3.20.2 in /usr/local/lib/python3.11/dist-packages (from google-cloud-aiplatform) (4.25.8)\n",
            "Requirement already satisfied: packaging>=14.3 in /usr/local/lib/python3.11/dist-packages (from google-cloud-aiplatform) (24.2)\n",
            "Requirement already satisfied: google-cloud-storage<3.0.0,>=1.32.0 in /usr/local/lib/python3.11/dist-packages (from google-cloud-aiplatform) (2.19.0)\n",
            "Requirement already satisfied: google-cloud-bigquery!=3.20.0,<4.0.0,>=1.15.0 in /usr/local/lib/python3.11/dist-packages (from google-cloud-aiplatform) (3.34.0)\n",
            "Requirement already satisfied: google-cloud-resource-manager<3.0.0,>=1.3.3 in /usr/local/lib/python3.11/dist-packages (from google-cloud-aiplatform) (1.14.2)\n",
            "Requirement already satisfied: shapely<3.0.0 in /usr/local/lib/python3.11/dist-packages (from google-cloud-aiplatform) (2.1.1)\n",
            "Requirement already satisfied: google-genai<2.0.0,>=1.0.0 in /usr/local/lib/python3.11/dist-packages (from google-cloud-aiplatform) (1.24.0)\n",
            "Requirement already satisfied: pydantic<3 in /usr/local/lib/python3.11/dist-packages (from google-cloud-aiplatform) (2.11.7)\n",
            "Requirement already satisfied: typing_extensions in /usr/local/lib/python3.11/dist-packages (from google-cloud-aiplatform) (4.14.1)\n",
            "Requirement already satisfied: docstring_parser<1 in /usr/local/lib/python3.11/dist-packages (from google-cloud-aiplatform) (0.16)\n",
            "Requirement already satisfied: googleapis-common-protos<2.0.0,>=1.56.2 in /usr/local/lib/python3.11/dist-packages (from google-api-core!=2.0.*,!=2.1.*,!=2.2.*,!=2.3.*,!=2.4.*,!=2.5.*,!=2.6.*,!=2.7.*,<3.0.0,>=1.34.1->google-api-core[grpc]!=2.0.*,!=2.1.*,!=2.2.*,!=2.3.*,!=2.4.*,!=2.5.*,!=2.6.*,!=2.7.*,<3.0.0,>=1.34.1->google-cloud-aiplatform) (1.70.0)\n",
            "Requirement already satisfied: requests<3.0.0,>=2.18.0 in /usr/local/lib/python3.11/dist-packages (from google-api-core!=2.0.*,!=2.1.*,!=2.2.*,!=2.3.*,!=2.4.*,!=2.5.*,!=2.6.*,!=2.7.*,<3.0.0,>=1.34.1->google-api-core[grpc]!=2.0.*,!=2.1.*,!=2.2.*,!=2.3.*,!=2.4.*,!=2.5.*,!=2.6.*,!=2.7.*,<3.0.0,>=1.34.1->google-cloud-aiplatform) (2.32.3)\n",
            "Requirement already satisfied: grpcio<2.0.0,>=1.33.2 in /usr/local/lib/python3.11/dist-packages (from google-api-core[grpc]!=2.0.*,!=2.1.*,!=2.2.*,!=2.3.*,!=2.4.*,!=2.5.*,!=2.6.*,!=2.7.*,<3.0.0,>=1.34.1->google-cloud-aiplatform) (1.73.1)\n",
            "Requirement already satisfied: grpcio-status<2.0.0,>=1.33.2 in /usr/local/lib/python3.11/dist-packages (from google-api-core[grpc]!=2.0.*,!=2.1.*,!=2.2.*,!=2.3.*,!=2.4.*,!=2.5.*,!=2.6.*,!=2.7.*,<3.0.0,>=1.34.1->google-cloud-aiplatform) (1.62.3)\n",
            "Requirement already satisfied: cachetools<6.0,>=2.0.0 in /usr/local/lib/python3.11/dist-packages (from google-auth<3.0.0,>=2.14.1->google-cloud-aiplatform) (5.5.2)\n",
            "Requirement already satisfied: pyasn1-modules>=0.2.1 in /usr/local/lib/python3.11/dist-packages (from google-auth<3.0.0,>=2.14.1->google-cloud-aiplatform) (0.4.2)\n",
            "Requirement already satisfied: rsa<5,>=3.1.4 in /usr/local/lib/python3.11/dist-packages (from google-auth<3.0.0,>=2.14.1->google-cloud-aiplatform) (4.9.1)\n",
            "Requirement already satisfied: google-cloud-core<3.0.0,>=2.4.1 in /usr/local/lib/python3.11/dist-packages (from google-cloud-bigquery!=3.20.0,<4.0.0,>=1.15.0->google-cloud-aiplatform) (2.4.3)\n",
            "Requirement already satisfied: google-resumable-media<3.0.0,>=2.0.0 in /usr/local/lib/python3.11/dist-packages (from google-cloud-bigquery!=3.20.0,<4.0.0,>=1.15.0->google-cloud-aiplatform) (2.7.2)\n",
            "Requirement already satisfied: python-dateutil<3.0.0,>=2.8.2 in /usr/local/lib/python3.11/dist-packages (from google-cloud-bigquery!=3.20.0,<4.0.0,>=1.15.0->google-cloud-aiplatform) (2.9.0.post0)\n",
            "Requirement already satisfied: grpc-google-iam-v1<1.0.0,>=0.14.0 in /usr/local/lib/python3.11/dist-packages (from google-cloud-resource-manager<3.0.0,>=1.3.3->google-cloud-aiplatform) (0.14.2)\n",
            "Requirement already satisfied: google-crc32c<2.0dev,>=1.0 in /usr/local/lib/python3.11/dist-packages (from google-cloud-storage<3.0.0,>=1.32.0->google-cloud-aiplatform) (1.7.1)\n",
            "Requirement already satisfied: anyio<5.0.0,>=4.8.0 in /usr/local/lib/python3.11/dist-packages (from google-genai<2.0.0,>=1.0.0->google-cloud-aiplatform) (4.9.0)\n",
            "Requirement already satisfied: httpx<1.0.0,>=0.28.1 in /usr/local/lib/python3.11/dist-packages (from google-genai<2.0.0,>=1.0.0->google-cloud-aiplatform) (0.28.1)\n",
            "Requirement already satisfied: tenacity<9.0.0,>=8.2.3 in /usr/local/lib/python3.11/dist-packages (from google-genai<2.0.0,>=1.0.0->google-cloud-aiplatform) (8.5.0)\n",
            "Requirement already satisfied: websockets<15.1.0,>=13.0.0 in /usr/local/lib/python3.11/dist-packages (from google-genai<2.0.0,>=1.0.0->google-cloud-aiplatform) (15.0.1)\n",
            "Requirement already satisfied: annotated-types>=0.6.0 in /usr/local/lib/python3.11/dist-packages (from pydantic<3->google-cloud-aiplatform) (0.7.0)\n",
            "Requirement already satisfied: pydantic-core==2.33.2 in /usr/local/lib/python3.11/dist-packages (from pydantic<3->google-cloud-aiplatform) (2.33.2)\n",
            "Requirement already satisfied: typing-inspection>=0.4.0 in /usr/local/lib/python3.11/dist-packages (from pydantic<3->google-cloud-aiplatform) (0.4.1)\n",
            "Requirement already satisfied: numpy>=1.21 in /usr/local/lib/python3.11/dist-packages (from shapely<3.0.0->google-cloud-aiplatform) (1.26.4)\n",
            "Requirement already satisfied: idna>=2.8 in /usr/local/lib/python3.11/dist-packages (from anyio<5.0.0,>=4.8.0->google-genai<2.0.0,>=1.0.0->google-cloud-aiplatform) (3.10)\n",
            "Requirement already satisfied: sniffio>=1.1 in /usr/local/lib/python3.11/dist-packages (from anyio<5.0.0,>=4.8.0->google-genai<2.0.0,>=1.0.0->google-cloud-aiplatform) (1.3.1)\n",
            "Requirement already satisfied: certifi in /usr/local/lib/python3.11/dist-packages (from httpx<1.0.0,>=0.28.1->google-genai<2.0.0,>=1.0.0->google-cloud-aiplatform) (2025.7.9)\n",
            "Requirement already satisfied: httpcore==1.* in /usr/local/lib/python3.11/dist-packages (from httpx<1.0.0,>=0.28.1->google-genai<2.0.0,>=1.0.0->google-cloud-aiplatform) (1.0.9)\n",
            "Requirement already satisfied: h11>=0.16 in /usr/local/lib/python3.11/dist-packages (from httpcore==1.*->httpx<1.0.0,>=0.28.1->google-genai<2.0.0,>=1.0.0->google-cloud-aiplatform) (0.16.0)\n",
            "Requirement already satisfied: pyasn1<0.7.0,>=0.6.1 in /usr/local/lib/python3.11/dist-packages (from pyasn1-modules>=0.2.1->google-auth<3.0.0,>=2.14.1->google-cloud-aiplatform) (0.6.1)\n",
            "Requirement already satisfied: six>=1.5 in /usr/local/lib/python3.11/dist-packages (from python-dateutil<3.0.0,>=2.8.2->google-cloud-bigquery!=3.20.0,<4.0.0,>=1.15.0->google-cloud-aiplatform) (1.17.0)\n",
            "Requirement already satisfied: charset-normalizer<4,>=2 in /usr/local/lib/python3.11/dist-packages (from requests<3.0.0,>=2.18.0->google-api-core!=2.0.*,!=2.1.*,!=2.2.*,!=2.3.*,!=2.4.*,!=2.5.*,!=2.6.*,!=2.7.*,<3.0.0,>=1.34.1->google-api-core[grpc]!=2.0.*,!=2.1.*,!=2.2.*,!=2.3.*,!=2.4.*,!=2.5.*,!=2.6.*,!=2.7.*,<3.0.0,>=1.34.1->google-cloud-aiplatform) (3.4.2)\n",
            "Requirement already satisfied: urllib3<3,>=1.21.1 in /usr/local/lib/python3.11/dist-packages (from requests<3.0.0,>=2.18.0->google-api-core!=2.0.*,!=2.1.*,!=2.2.*,!=2.3.*,!=2.4.*,!=2.5.*,!=2.6.*,!=2.7.*,<3.0.0,>=1.34.1->google-api-core[grpc]!=2.0.*,!=2.1.*,!=2.2.*,!=2.3.*,!=2.4.*,!=2.5.*,!=2.6.*,!=2.7.*,<3.0.0,>=1.34.1->google-cloud-aiplatform) (2.4.0)\n"
          ]
        }
      ],
      "source": [
        "!pip install --upgrade --user google-cloud-aiplatform"
      ]
    },
    {
      "cell_type": "code",
      "source": [
        "!pip install ragstack-ai"
      ],
      "metadata": {
        "colab": {
          "base_uri": "https://localhost:8080/"
        },
        "id": "usmfX6b744rn",
        "outputId": "f6226c0e-322f-4707-b0c5-2228928615e2"
      },
      "execution_count": 15,
      "outputs": [
        {
          "output_type": "stream",
          "name": "stdout",
          "text": [
            "Requirement already satisfied: ragstack-ai in /usr/local/lib/python3.11/dist-packages (1.1.0)\n",
            "Requirement already satisfied: ragstack-ai-colbert==1.0.6 in /usr/local/lib/python3.11/dist-packages (from ragstack-ai) (1.0.6)\n",
            "Requirement already satisfied: ragstack-ai-langchain==1.4.0 in /usr/local/lib/python3.11/dist-packages (from ragstack-ai-langchain[colbert,google,nvidia]==1.4.0->ragstack-ai) (1.4.0)\n",
            "Requirement already satisfied: ragstack-ai-llamaindex==1.0.8 in /usr/local/lib/python3.11/dist-packages (from ragstack-ai-llamaindex[azure,bedrock,colbert,google]==1.0.8->ragstack-ai) (1.0.8)\n",
            "Requirement already satisfied: cassio<0.2.0,>=0.1.7 in /usr/local/lib/python3.11/dist-packages (from ragstack-ai-colbert==1.0.6->ragstack-ai) (0.1.10)\n",
            "Requirement already satisfied: colbert-ai==0.2.19 in /usr/local/lib/python3.11/dist-packages (from ragstack-ai-colbert==1.0.6->ragstack-ai) (0.2.19)\n",
            "Requirement already satisfied: pyarrow==14.0.1 in /usr/local/lib/python3.11/dist-packages (from ragstack-ai-colbert==1.0.6->ragstack-ai) (14.0.1)\n",
            "Requirement already satisfied: pydantic<3.0.0,>=2.7.1 in /usr/local/lib/python3.11/dist-packages (from ragstack-ai-colbert==1.0.6->ragstack-ai) (2.11.7)\n",
            "Requirement already satisfied: torch==2.2.1 in /usr/local/lib/python3.11/dist-packages (from ragstack-ai-colbert==1.0.6->ragstack-ai) (2.2.1)\n",
            "Requirement already satisfied: astrapy<2,>=1 in /usr/local/lib/python3.11/dist-packages (from ragstack-ai-langchain==1.4.0->ragstack-ai-langchain[colbert,google,nvidia]==1.4.0->ragstack-ai) (1.5.2)\n",
            "Requirement already satisfied: langchain==0.2.10 in /usr/local/lib/python3.11/dist-packages (from ragstack-ai-langchain==1.4.0->ragstack-ai-langchain[colbert,google,nvidia]==1.4.0->ragstack-ai) (0.2.10)\n",
            "Requirement already satisfied: langchain-astradb==0.3.3 in /usr/local/lib/python3.11/dist-packages (from ragstack-ai-langchain==1.4.0->ragstack-ai-langchain[colbert,google,nvidia]==1.4.0->ragstack-ai) (0.3.3)\n",
            "Requirement already satisfied: langchain-community==0.2.9 in /usr/local/lib/python3.11/dist-packages (from ragstack-ai-langchain==1.4.0->ragstack-ai-langchain[colbert,google,nvidia]==1.4.0->ragstack-ai) (0.2.9)\n",
            "Requirement already satisfied: langchain-core==0.2.22 in /usr/local/lib/python3.11/dist-packages (from ragstack-ai-langchain==1.4.0->ragstack-ai-langchain[colbert,google,nvidia]==1.4.0->ragstack-ai) (0.2.22)\n",
            "Requirement already satisfied: langchain-openai==0.1.8 in /usr/local/lib/python3.11/dist-packages (from ragstack-ai-langchain==1.4.0->ragstack-ai-langchain[colbert,google,nvidia]==1.4.0->ragstack-ai) (0.1.8)\n",
            "Requirement already satisfied: unstructured==0.14.5 in /usr/local/lib/python3.11/dist-packages (from ragstack-ai-langchain==1.4.0->ragstack-ai-langchain[colbert,google,nvidia]==1.4.0->ragstack-ai) (0.14.5)\n",
            "Requirement already satisfied: langchain-google-genai==1.0.6 in /usr/local/lib/python3.11/dist-packages (from ragstack-ai-langchain[colbert,google,nvidia]==1.4.0->ragstack-ai) (1.0.6)\n",
            "Requirement already satisfied: langchain-google-vertexai==1.0.5 in /usr/local/lib/python3.11/dist-packages (from ragstack-ai-langchain[colbert,google,nvidia]==1.4.0->ragstack-ai) (1.0.5)\n",
            "Requirement already satisfied: langchain-nvidia-ai-endpoints==0.1.1 in /usr/local/lib/python3.11/dist-packages (from ragstack-ai-langchain[colbert,google,nvidia]==1.4.0->ragstack-ai) (0.1.1)\n",
            "Requirement already satisfied: cffi<2.0.0,>=1.16.0 in /usr/local/lib/python3.11/dist-packages (from ragstack-ai-llamaindex==1.0.8->ragstack-ai-llamaindex[azure,bedrock,colbert,google]==1.0.8->ragstack-ai) (1.17.1)\n",
            "Requirement already satisfied: llama-index==0.10.57 in /usr/local/lib/python3.11/dist-packages (from ragstack-ai-llamaindex==1.0.8->ragstack-ai-llamaindex[azure,bedrock,colbert,google]==1.0.8->ragstack-ai) (0.10.57)\n",
            "Requirement already satisfied: llama-index-core==0.10.57 in /usr/local/lib/python3.11/dist-packages (from ragstack-ai-llamaindex==1.0.8->ragstack-ai-llamaindex[azure,bedrock,colbert,google]==1.0.8->ragstack-ai) (0.10.57)\n",
            "Requirement already satisfied: llama-index-embeddings-langchain==0.1.2 in /usr/local/lib/python3.11/dist-packages (from ragstack-ai-llamaindex==1.0.8->ragstack-ai-llamaindex[azure,bedrock,colbert,google]==1.0.8->ragstack-ai) (0.1.2)\n",
            "Requirement already satisfied: llama-index-tools-cassandra==0.1.1 in /usr/local/lib/python3.11/dist-packages (from ragstack-ai-llamaindex==1.0.8->ragstack-ai-llamaindex[azure,bedrock,colbert,google]==1.0.8->ragstack-ai) (0.1.1)\n",
            "Requirement already satisfied: llama-index-vector-stores-astra-db==0.1.7 in /usr/local/lib/python3.11/dist-packages (from ragstack-ai-llamaindex==1.0.8->ragstack-ai-llamaindex[azure,bedrock,colbert,google]==1.0.8->ragstack-ai) (0.1.7)\n",
            "Requirement already satisfied: llama-index-vector-stores-cassandra==0.1.3 in /usr/local/lib/python3.11/dist-packages (from ragstack-ai-llamaindex==1.0.8->ragstack-ai-llamaindex[azure,bedrock,colbert,google]==1.0.8->ragstack-ai) (0.1.3)\n",
            "Requirement already satisfied: llama-parse==0.4.1 in /usr/local/lib/python3.11/dist-packages (from ragstack-ai-llamaindex==1.0.8->ragstack-ai-llamaindex[azure,bedrock,colbert,google]==1.0.8->ragstack-ai) (0.4.1)\n",
            "Requirement already satisfied: llama-index-embeddings-azure-openai==0.1.7 in /usr/local/lib/python3.11/dist-packages (from ragstack-ai-llamaindex[azure,bedrock,colbert,google]==1.0.8->ragstack-ai) (0.1.7)\n",
            "Requirement already satisfied: llama-index-embeddings-bedrock==0.1.4 in /usr/local/lib/python3.11/dist-packages (from ragstack-ai-llamaindex[azure,bedrock,colbert,google]==1.0.8->ragstack-ai) (0.1.4)\n",
            "Requirement already satisfied: llama-index-embeddings-gemini==0.1.7 in /usr/local/lib/python3.11/dist-packages (from ragstack-ai-llamaindex[azure,bedrock,colbert,google]==1.0.8->ragstack-ai) (0.1.7)\n",
            "Requirement already satisfied: llama-index-llms-azure-openai==0.1.6 in /usr/local/lib/python3.11/dist-packages (from ragstack-ai-llamaindex[azure,bedrock,colbert,google]==1.0.8->ragstack-ai) (0.1.6)\n",
            "Requirement already satisfied: llama-index-llms-bedrock==0.1.7 in /usr/local/lib/python3.11/dist-packages (from ragstack-ai-llamaindex[azure,bedrock,colbert,google]==1.0.8->ragstack-ai) (0.1.7)\n",
            "Requirement already satisfied: llama-index-llms-gemini==0.1.10 in /usr/local/lib/python3.11/dist-packages (from ragstack-ai-llamaindex[azure,bedrock,colbert,google]==1.0.8->ragstack-ai) (0.1.10)\n",
            "Requirement already satisfied: llama-index-llms-vertex==0.1.5 in /usr/local/lib/python3.11/dist-packages (from ragstack-ai-llamaindex[azure,bedrock,colbert,google]==1.0.8->ragstack-ai) (0.1.5)\n",
            "Requirement already satisfied: llama-index-multi-modal-llms-gemini==0.1.7 in /usr/local/lib/python3.11/dist-packages (from ragstack-ai-llamaindex[azure,bedrock,colbert,google]==1.0.8->ragstack-ai) (0.1.7)\n",
            "Requirement already satisfied: bitarray in /usr/local/lib/python3.11/dist-packages (from colbert-ai==0.2.19->ragstack-ai-colbert==1.0.6->ragstack-ai) (3.5.0)\n",
            "Requirement already satisfied: datasets in /usr/local/lib/python3.11/dist-packages (from colbert-ai==0.2.19->ragstack-ai-colbert==1.0.6->ragstack-ai) (2.14.4)\n",
            "Requirement already satisfied: flask in /usr/local/lib/python3.11/dist-packages (from colbert-ai==0.2.19->ragstack-ai-colbert==1.0.6->ragstack-ai) (3.1.1)\n",
            "Requirement already satisfied: git-python in /usr/local/lib/python3.11/dist-packages (from colbert-ai==0.2.19->ragstack-ai-colbert==1.0.6->ragstack-ai) (1.0.3)\n",
            "Requirement already satisfied: python-dotenv in /usr/local/lib/python3.11/dist-packages (from colbert-ai==0.2.19->ragstack-ai-colbert==1.0.6->ragstack-ai) (1.1.1)\n",
            "Requirement already satisfied: ninja in /usr/local/lib/python3.11/dist-packages (from colbert-ai==0.2.19->ragstack-ai-colbert==1.0.6->ragstack-ai) (1.11.1.4)\n",
            "Requirement already satisfied: scipy in /usr/local/lib/python3.11/dist-packages (from colbert-ai==0.2.19->ragstack-ai-colbert==1.0.6->ragstack-ai) (1.15.3)\n",
            "Requirement already satisfied: tqdm in /usr/local/lib/python3.11/dist-packages (from colbert-ai==0.2.19->ragstack-ai-colbert==1.0.6->ragstack-ai) (4.67.1)\n",
            "Requirement already satisfied: transformers in /usr/local/lib/python3.11/dist-packages (from colbert-ai==0.2.19->ragstack-ai-colbert==1.0.6->ragstack-ai) (4.53.1)\n",
            "Requirement already satisfied: ujson in /usr/local/lib/python3.11/dist-packages (from colbert-ai==0.2.19->ragstack-ai-colbert==1.0.6->ragstack-ai) (5.10.0)\n",
            "Requirement already satisfied: PyYAML>=5.3 in /usr/local/lib/python3.11/dist-packages (from langchain==0.2.10->ragstack-ai-langchain==1.4.0->ragstack-ai-langchain[colbert,google,nvidia]==1.4.0->ragstack-ai) (6.0.2)\n",
            "Requirement already satisfied: SQLAlchemy<3,>=1.4 in /usr/local/lib/python3.11/dist-packages (from langchain==0.2.10->ragstack-ai-langchain==1.4.0->ragstack-ai-langchain[colbert,google,nvidia]==1.4.0->ragstack-ai) (2.0.41)\n",
            "Requirement already satisfied: aiohttp<4.0.0,>=3.8.3 in /usr/local/lib/python3.11/dist-packages (from langchain==0.2.10->ragstack-ai-langchain==1.4.0->ragstack-ai-langchain[colbert,google,nvidia]==1.4.0->ragstack-ai) (3.11.15)\n",
            "Requirement already satisfied: langchain-text-splitters<0.3.0,>=0.2.0 in /usr/local/lib/python3.11/dist-packages (from langchain==0.2.10->ragstack-ai-langchain==1.4.0->ragstack-ai-langchain[colbert,google,nvidia]==1.4.0->ragstack-ai) (0.2.2)\n",
            "Requirement already satisfied: langsmith<0.2.0,>=0.1.17 in /usr/local/lib/python3.11/dist-packages (from langchain==0.2.10->ragstack-ai-langchain==1.4.0->ragstack-ai-langchain[colbert,google,nvidia]==1.4.0->ragstack-ai) (0.1.147)\n",
            "Requirement already satisfied: numpy<2,>=1 in /usr/local/lib/python3.11/dist-packages (from langchain==0.2.10->ragstack-ai-langchain==1.4.0->ragstack-ai-langchain[colbert,google,nvidia]==1.4.0->ragstack-ai) (1.26.4)\n",
            "Requirement already satisfied: requests<3,>=2 in /usr/local/lib/python3.11/dist-packages (from langchain==0.2.10->ragstack-ai-langchain==1.4.0->ragstack-ai-langchain[colbert,google,nvidia]==1.4.0->ragstack-ai) (2.32.3)\n",
            "Requirement already satisfied: tenacity!=8.4.0,<9.0.0,>=8.1.0 in /usr/local/lib/python3.11/dist-packages (from langchain==0.2.10->ragstack-ai-langchain==1.4.0->ragstack-ai-langchain[colbert,google,nvidia]==1.4.0->ragstack-ai) (8.5.0)\n",
            "Requirement already satisfied: dataclasses-json<0.7,>=0.5.7 in /usr/local/lib/python3.11/dist-packages (from langchain-community==0.2.9->ragstack-ai-langchain==1.4.0->ragstack-ai-langchain[colbert,google,nvidia]==1.4.0->ragstack-ai) (0.6.7)\n",
            "Requirement already satisfied: jsonpatch<2.0,>=1.33 in /usr/local/lib/python3.11/dist-packages (from langchain-core==0.2.22->ragstack-ai-langchain==1.4.0->ragstack-ai-langchain[colbert,google,nvidia]==1.4.0->ragstack-ai) (1.33)\n",
            "Requirement already satisfied: packaging<25,>=23.2 in /usr/local/lib/python3.11/dist-packages (from langchain-core==0.2.22->ragstack-ai-langchain==1.4.0->ragstack-ai-langchain[colbert,google,nvidia]==1.4.0->ragstack-ai) (24.2)\n",
            "Requirement already satisfied: google-generativeai<0.6.0,>=0.5.2 in /usr/local/lib/python3.11/dist-packages (from langchain-google-genai==1.0.6->ragstack-ai-langchain[colbert,google,nvidia]==1.4.0->ragstack-ai) (0.5.4)\n",
            "Requirement already satisfied: google-cloud-aiplatform<2.0.0,>=1.47.0 in /root/.local/lib/python3.11/site-packages (from langchain-google-vertexai==1.0.5->ragstack-ai-langchain[colbert,google,nvidia]==1.4.0->ragstack-ai) (1.103.0)\n",
            "Requirement already satisfied: google-cloud-storage<3.0.0,>=2.14.0 in /usr/local/lib/python3.11/dist-packages (from langchain-google-vertexai==1.0.5->ragstack-ai-langchain[colbert,google,nvidia]==1.4.0->ragstack-ai) (2.19.0)\n",
            "Requirement already satisfied: pillow<11.0.0,>=10.0.0 in /usr/local/lib/python3.11/dist-packages (from langchain-nvidia-ai-endpoints==0.1.1->ragstack-ai-langchain[colbert,google,nvidia]==1.4.0->ragstack-ai) (10.4.0)\n",
            "Requirement already satisfied: openai<2.0.0,>=1.26.0 in /usr/local/lib/python3.11/dist-packages (from langchain-openai==0.1.8->ragstack-ai-langchain==1.4.0->ragstack-ai-langchain[colbert,google,nvidia]==1.4.0->ragstack-ai) (1.93.3)\n",
            "Requirement already satisfied: tiktoken<1,>=0.7 in /usr/local/lib/python3.11/dist-packages (from langchain-openai==0.1.8->ragstack-ai-langchain==1.4.0->ragstack-ai-langchain[colbert,google,nvidia]==1.4.0->ragstack-ai) (0.9.0)\n",
            "Requirement already satisfied: llama-index-agent-openai<0.3.0,>=0.1.4 in /usr/local/lib/python3.11/dist-packages (from llama-index==0.10.57->ragstack-ai-llamaindex==1.0.8->ragstack-ai-llamaindex[azure,bedrock,colbert,google]==1.0.8->ragstack-ai) (0.2.9)\n",
            "Requirement already satisfied: llama-index-cli<0.2.0,>=0.1.2 in /usr/local/lib/python3.11/dist-packages (from llama-index==0.10.57->ragstack-ai-llamaindex==1.0.8->ragstack-ai-llamaindex[azure,bedrock,colbert,google]==1.0.8->ragstack-ai) (0.1.13)\n",
            "Requirement already satisfied: llama-index-embeddings-openai<0.2.0,>=0.1.5 in /usr/local/lib/python3.11/dist-packages (from llama-index==0.10.57->ragstack-ai-llamaindex==1.0.8->ragstack-ai-llamaindex[azure,bedrock,colbert,google]==1.0.8->ragstack-ai) (0.1.11)\n",
            "Requirement already satisfied: llama-index-indices-managed-llama-cloud>=0.2.0 in /usr/local/lib/python3.11/dist-packages (from llama-index==0.10.57->ragstack-ai-llamaindex==1.0.8->ragstack-ai-llamaindex[azure,bedrock,colbert,google]==1.0.8->ragstack-ai) (0.2.7)\n",
            "Requirement already satisfied: llama-index-legacy<0.10.0,>=0.9.48 in /usr/local/lib/python3.11/dist-packages (from llama-index==0.10.57->ragstack-ai-llamaindex==1.0.8->ragstack-ai-llamaindex[azure,bedrock,colbert,google]==1.0.8->ragstack-ai) (0.9.48.post4)\n",
            "Requirement already satisfied: llama-index-llms-openai<0.2.0,>=0.1.13 in /usr/local/lib/python3.11/dist-packages (from llama-index==0.10.57->ragstack-ai-llamaindex==1.0.8->ragstack-ai-llamaindex[azure,bedrock,colbert,google]==1.0.8->ragstack-ai) (0.1.31)\n",
            "Requirement already satisfied: llama-index-multi-modal-llms-openai<0.2.0,>=0.1.3 in /usr/local/lib/python3.11/dist-packages (from llama-index==0.10.57->ragstack-ai-llamaindex==1.0.8->ragstack-ai-llamaindex[azure,bedrock,colbert,google]==1.0.8->ragstack-ai) (0.1.9)\n",
            "Requirement already satisfied: llama-index-program-openai<0.2.0,>=0.1.3 in /usr/local/lib/python3.11/dist-packages (from llama-index==0.10.57->ragstack-ai-llamaindex==1.0.8->ragstack-ai-llamaindex[azure,bedrock,colbert,google]==1.0.8->ragstack-ai) (0.1.7)\n",
            "Requirement already satisfied: llama-index-question-gen-openai<0.2.0,>=0.1.2 in /usr/local/lib/python3.11/dist-packages (from llama-index==0.10.57->ragstack-ai-llamaindex==1.0.8->ragstack-ai-llamaindex[azure,bedrock,colbert,google]==1.0.8->ragstack-ai) (0.1.3)\n",
            "Requirement already satisfied: llama-index-readers-file<0.2.0,>=0.1.4 in /usr/local/lib/python3.11/dist-packages (from llama-index==0.10.57->ragstack-ai-llamaindex==1.0.8->ragstack-ai-llamaindex[azure,bedrock,colbert,google]==1.0.8->ragstack-ai) (0.1.33)\n",
            "Requirement already satisfied: llama-index-readers-llama-parse>=0.1.2 in /usr/local/lib/python3.11/dist-packages (from llama-index==0.10.57->ragstack-ai-llamaindex==1.0.8->ragstack-ai-llamaindex[azure,bedrock,colbert,google]==1.0.8->ragstack-ai) (0.1.6)\n",
            "Requirement already satisfied: deprecated>=1.2.9.3 in /usr/local/lib/python3.11/dist-packages (from llama-index-core==0.10.57->ragstack-ai-llamaindex==1.0.8->ragstack-ai-llamaindex[azure,bedrock,colbert,google]==1.0.8->ragstack-ai) (1.2.18)\n",
            "Requirement already satisfied: dirtyjson<2.0.0,>=1.0.8 in /usr/local/lib/python3.11/dist-packages (from llama-index-core==0.10.57->ragstack-ai-llamaindex==1.0.8->ragstack-ai-llamaindex[azure,bedrock,colbert,google]==1.0.8->ragstack-ai) (1.0.8)\n",
            "Requirement already satisfied: fsspec>=2023.5.0 in /usr/local/lib/python3.11/dist-packages (from llama-index-core==0.10.57->ragstack-ai-llamaindex==1.0.8->ragstack-ai-llamaindex[azure,bedrock,colbert,google]==1.0.8->ragstack-ai) (2025.3.2)\n",
            "Requirement already satisfied: httpx in /usr/local/lib/python3.11/dist-packages (from llama-index-core==0.10.57->ragstack-ai-llamaindex==1.0.8->ragstack-ai-llamaindex[azure,bedrock,colbert,google]==1.0.8->ragstack-ai) (0.28.1)\n",
            "Requirement already satisfied: nest-asyncio<2.0.0,>=1.5.8 in /usr/local/lib/python3.11/dist-packages (from llama-index-core==0.10.57->ragstack-ai-llamaindex==1.0.8->ragstack-ai-llamaindex[azure,bedrock,colbert,google]==1.0.8->ragstack-ai) (1.6.0)\n",
            "Requirement already satisfied: networkx>=3.0 in /usr/local/lib/python3.11/dist-packages (from llama-index-core==0.10.57->ragstack-ai-llamaindex==1.0.8->ragstack-ai-llamaindex[azure,bedrock,colbert,google]==1.0.8->ragstack-ai) (3.5)\n",
            "Requirement already satisfied: nltk<4.0.0,>=3.8.1 in /usr/local/lib/python3.11/dist-packages (from llama-index-core==0.10.57->ragstack-ai-llamaindex==1.0.8->ragstack-ai-llamaindex[azure,bedrock,colbert,google]==1.0.8->ragstack-ai) (3.9.1)\n",
            "Requirement already satisfied: pandas in /usr/local/lib/python3.11/dist-packages (from llama-index-core==0.10.57->ragstack-ai-llamaindex==1.0.8->ragstack-ai-llamaindex[azure,bedrock,colbert,google]==1.0.8->ragstack-ai) (2.2.2)\n",
            "Requirement already satisfied: typing-extensions>=4.5.0 in /usr/local/lib/python3.11/dist-packages (from llama-index-core==0.10.57->ragstack-ai-llamaindex==1.0.8->ragstack-ai-llamaindex[azure,bedrock,colbert,google]==1.0.8->ragstack-ai) (4.14.1)\n",
            "Requirement already satisfied: typing-inspect>=0.8.0 in /usr/local/lib/python3.11/dist-packages (from llama-index-core==0.10.57->ragstack-ai-llamaindex==1.0.8->ragstack-ai-llamaindex[azure,bedrock,colbert,google]==1.0.8->ragstack-ai) (0.9.0)\n",
            "Requirement already satisfied: wrapt in /usr/local/lib/python3.11/dist-packages (from llama-index-core==0.10.57->ragstack-ai-llamaindex==1.0.8->ragstack-ai-llamaindex[azure,bedrock,colbert,google]==1.0.8->ragstack-ai) (1.17.2)\n",
            "Requirement already satisfied: boto3<2.0.0,>=1.34.23 in /usr/local/lib/python3.11/dist-packages (from llama-index-embeddings-bedrock==0.1.4->ragstack-ai-llamaindex[azure,bedrock,colbert,google]==1.0.8->ragstack-ai) (1.39.4)\n",
            "Requirement already satisfied: azure-identity<2.0.0,>=1.15.0 in /usr/local/lib/python3.11/dist-packages (from llama-index-llms-azure-openai==0.1.6->ragstack-ai-llamaindex[azure,bedrock,colbert,google]==1.0.8->ragstack-ai) (1.23.0)\n",
            "Requirement already satisfied: llama-index-llms-anthropic<0.2.0,>=0.1.7 in /usr/local/lib/python3.11/dist-packages (from llama-index-llms-bedrock==0.1.7->ragstack-ai-llamaindex[azure,bedrock,colbert,google]==1.0.8->ragstack-ai) (0.1.17)\n",
            "Requirement already satisfied: filelock in /usr/local/lib/python3.11/dist-packages (from torch==2.2.1->ragstack-ai-colbert==1.0.6->ragstack-ai) (3.18.0)\n",
            "Requirement already satisfied: sympy in /usr/local/lib/python3.11/dist-packages (from torch==2.2.1->ragstack-ai-colbert==1.0.6->ragstack-ai) (1.13.1)\n",
            "Requirement already satisfied: jinja2 in /usr/local/lib/python3.11/dist-packages (from torch==2.2.1->ragstack-ai-colbert==1.0.6->ragstack-ai) (3.1.6)\n",
            "Requirement already satisfied: nvidia-cuda-nvrtc-cu12==12.1.105 in /usr/local/lib/python3.11/dist-packages (from torch==2.2.1->ragstack-ai-colbert==1.0.6->ragstack-ai) (12.1.105)\n",
            "Requirement already satisfied: nvidia-cuda-runtime-cu12==12.1.105 in /usr/local/lib/python3.11/dist-packages (from torch==2.2.1->ragstack-ai-colbert==1.0.6->ragstack-ai) (12.1.105)\n",
            "Requirement already satisfied: nvidia-cuda-cupti-cu12==12.1.105 in /usr/local/lib/python3.11/dist-packages (from torch==2.2.1->ragstack-ai-colbert==1.0.6->ragstack-ai) (12.1.105)\n",
            "Requirement already satisfied: nvidia-cudnn-cu12==8.9.2.26 in /usr/local/lib/python3.11/dist-packages (from torch==2.2.1->ragstack-ai-colbert==1.0.6->ragstack-ai) (8.9.2.26)\n",
            "Requirement already satisfied: nvidia-cublas-cu12==12.1.3.1 in /usr/local/lib/python3.11/dist-packages (from torch==2.2.1->ragstack-ai-colbert==1.0.6->ragstack-ai) (12.1.3.1)\n",
            "Requirement already satisfied: nvidia-cufft-cu12==11.0.2.54 in /usr/local/lib/python3.11/dist-packages (from torch==2.2.1->ragstack-ai-colbert==1.0.6->ragstack-ai) (11.0.2.54)\n",
            "Requirement already satisfied: nvidia-curand-cu12==10.3.2.106 in /usr/local/lib/python3.11/dist-packages (from torch==2.2.1->ragstack-ai-colbert==1.0.6->ragstack-ai) (10.3.2.106)\n",
            "Requirement already satisfied: nvidia-cusolver-cu12==11.4.5.107 in /usr/local/lib/python3.11/dist-packages (from torch==2.2.1->ragstack-ai-colbert==1.0.6->ragstack-ai) (11.4.5.107)\n",
            "Requirement already satisfied: nvidia-cusparse-cu12==12.1.0.106 in /usr/local/lib/python3.11/dist-packages (from torch==2.2.1->ragstack-ai-colbert==1.0.6->ragstack-ai) (12.1.0.106)\n",
            "Requirement already satisfied: nvidia-nccl-cu12==2.19.3 in /usr/local/lib/python3.11/dist-packages (from torch==2.2.1->ragstack-ai-colbert==1.0.6->ragstack-ai) (2.19.3)\n",
            "Requirement already satisfied: nvidia-nvtx-cu12==12.1.105 in /usr/local/lib/python3.11/dist-packages (from torch==2.2.1->ragstack-ai-colbert==1.0.6->ragstack-ai) (12.1.105)\n",
            "Requirement already satisfied: triton==2.2.0 in /usr/local/lib/python3.11/dist-packages (from torch==2.2.1->ragstack-ai-colbert==1.0.6->ragstack-ai) (2.2.0)\n",
            "Requirement already satisfied: chardet in /usr/local/lib/python3.11/dist-packages (from unstructured==0.14.5->ragstack-ai-langchain==1.4.0->ragstack-ai-langchain[colbert,google,nvidia]==1.4.0->ragstack-ai) (5.2.0)\n",
            "Requirement already satisfied: filetype in /usr/local/lib/python3.11/dist-packages (from unstructured==0.14.5->ragstack-ai-langchain==1.4.0->ragstack-ai-langchain[colbert,google,nvidia]==1.4.0->ragstack-ai) (1.2.0)\n",
            "Requirement already satisfied: python-magic in /usr/local/lib/python3.11/dist-packages (from unstructured==0.14.5->ragstack-ai-langchain==1.4.0->ragstack-ai-langchain[colbert,google,nvidia]==1.4.0->ragstack-ai) (0.4.27)\n",
            "Requirement already satisfied: lxml in /usr/local/lib/python3.11/dist-packages (from unstructured==0.14.5->ragstack-ai-langchain==1.4.0->ragstack-ai-langchain[colbert,google,nvidia]==1.4.0->ragstack-ai) (5.4.0)\n",
            "Requirement already satisfied: tabulate in /usr/local/lib/python3.11/dist-packages (from unstructured==0.14.5->ragstack-ai-langchain==1.4.0->ragstack-ai-langchain[colbert,google,nvidia]==1.4.0->ragstack-ai) (0.9.0)\n",
            "Requirement already satisfied: beautifulsoup4 in /usr/local/lib/python3.11/dist-packages (from unstructured==0.14.5->ragstack-ai-langchain==1.4.0->ragstack-ai-langchain[colbert,google,nvidia]==1.4.0->ragstack-ai) (4.13.4)\n",
            "Requirement already satisfied: emoji in /usr/local/lib/python3.11/dist-packages (from unstructured==0.14.5->ragstack-ai-langchain==1.4.0->ragstack-ai-langchain[colbert,google,nvidia]==1.4.0->ragstack-ai) (2.14.1)\n",
            "Requirement already satisfied: python-iso639 in /usr/local/lib/python3.11/dist-packages (from unstructured==0.14.5->ragstack-ai-langchain==1.4.0->ragstack-ai-langchain[colbert,google,nvidia]==1.4.0->ragstack-ai) (2025.2.18)\n",
            "Requirement already satisfied: langdetect in /usr/local/lib/python3.11/dist-packages (from unstructured==0.14.5->ragstack-ai-langchain==1.4.0->ragstack-ai-langchain[colbert,google,nvidia]==1.4.0->ragstack-ai) (1.0.9)\n",
            "Requirement already satisfied: rapidfuzz in /usr/local/lib/python3.11/dist-packages (from unstructured==0.14.5->ragstack-ai-langchain==1.4.0->ragstack-ai-langchain[colbert,google,nvidia]==1.4.0->ragstack-ai) (3.13.0)\n",
            "Requirement already satisfied: backoff in /usr/local/lib/python3.11/dist-packages (from unstructured==0.14.5->ragstack-ai-langchain==1.4.0->ragstack-ai-langchain[colbert,google,nvidia]==1.4.0->ragstack-ai) (2.2.1)\n",
            "Requirement already satisfied: unstructured-client in /usr/local/lib/python3.11/dist-packages (from unstructured==0.14.5->ragstack-ai-langchain==1.4.0->ragstack-ai-langchain[colbert,google,nvidia]==1.4.0->ragstack-ai) (0.38.1)\n",
            "Requirement already satisfied: nvidia-nvjitlink-cu12 in /usr/local/lib/python3.11/dist-packages (from nvidia-cusolver-cu12==11.4.5.107->torch==2.2.1->ragstack-ai-colbert==1.0.6->ragstack-ai) (12.5.82)\n",
            "Requirement already satisfied: deprecation<2.2.0,>=2.1.0 in /usr/local/lib/python3.11/dist-packages (from astrapy<2,>=1->ragstack-ai-langchain==1.4.0->ragstack-ai-langchain[colbert,google,nvidia]==1.4.0->ragstack-ai) (2.1.0)\n",
            "Requirement already satisfied: pymongo>=3 in /usr/local/lib/python3.11/dist-packages (from astrapy<2,>=1->ragstack-ai-langchain==1.4.0->ragstack-ai-langchain[colbert,google,nvidia]==1.4.0->ragstack-ai) (4.13.2)\n",
            "Requirement already satisfied: toml<0.11.0,>=0.10.2 in /usr/local/lib/python3.11/dist-packages (from astrapy<2,>=1->ragstack-ai-langchain==1.4.0->ragstack-ai-langchain[colbert,google,nvidia]==1.4.0->ragstack-ai) (0.10.2)\n",
            "Requirement already satisfied: uuid6>=2024.1.12 in /usr/local/lib/python3.11/dist-packages (from astrapy<2,>=1->ragstack-ai-langchain==1.4.0->ragstack-ai-langchain[colbert,google,nvidia]==1.4.0->ragstack-ai) (2025.0.1)\n",
            "Requirement already satisfied: cassandra-driver<4.0.0,>=3.28.0 in /usr/local/lib/python3.11/dist-packages (from cassio<0.2.0,>=0.1.7->ragstack-ai-colbert==1.0.6->ragstack-ai) (3.29.2)\n",
            "Requirement already satisfied: pycparser in /usr/local/lib/python3.11/dist-packages (from cffi<2.0.0,>=1.16.0->ragstack-ai-llamaindex==1.0.8->ragstack-ai-llamaindex[azure,bedrock,colbert,google]==1.0.8->ragstack-ai) (2.22)\n",
            "Requirement already satisfied: annotated-types>=0.6.0 in /usr/local/lib/python3.11/dist-packages (from pydantic<3.0.0,>=2.7.1->ragstack-ai-colbert==1.0.6->ragstack-ai) (0.7.0)\n",
            "Requirement already satisfied: pydantic-core==2.33.2 in /usr/local/lib/python3.11/dist-packages (from pydantic<3.0.0,>=2.7.1->ragstack-ai-colbert==1.0.6->ragstack-ai) (2.33.2)\n",
            "Requirement already satisfied: typing-inspection>=0.4.0 in /usr/local/lib/python3.11/dist-packages (from pydantic<3.0.0,>=2.7.1->ragstack-ai-colbert==1.0.6->ragstack-ai) (0.4.1)\n",
            "Requirement already satisfied: aiohappyeyeballs>=2.3.0 in /usr/local/lib/python3.11/dist-packages (from aiohttp<4.0.0,>=3.8.3->langchain==0.2.10->ragstack-ai-langchain==1.4.0->ragstack-ai-langchain[colbert,google,nvidia]==1.4.0->ragstack-ai) (2.6.1)\n",
            "Requirement already satisfied: aiosignal>=1.1.2 in /usr/local/lib/python3.11/dist-packages (from aiohttp<4.0.0,>=3.8.3->langchain==0.2.10->ragstack-ai-langchain==1.4.0->ragstack-ai-langchain[colbert,google,nvidia]==1.4.0->ragstack-ai) (1.4.0)\n",
            "Requirement already satisfied: attrs>=17.3.0 in /usr/local/lib/python3.11/dist-packages (from aiohttp<4.0.0,>=3.8.3->langchain==0.2.10->ragstack-ai-langchain==1.4.0->ragstack-ai-langchain[colbert,google,nvidia]==1.4.0->ragstack-ai) (25.3.0)\n",
            "Requirement already satisfied: frozenlist>=1.1.1 in /usr/local/lib/python3.11/dist-packages (from aiohttp<4.0.0,>=3.8.3->langchain==0.2.10->ragstack-ai-langchain==1.4.0->ragstack-ai-langchain[colbert,google,nvidia]==1.4.0->ragstack-ai) (1.7.0)\n",
            "Requirement already satisfied: multidict<7.0,>=4.5 in /usr/local/lib/python3.11/dist-packages (from aiohttp<4.0.0,>=3.8.3->langchain==0.2.10->ragstack-ai-langchain==1.4.0->ragstack-ai-langchain[colbert,google,nvidia]==1.4.0->ragstack-ai) (6.6.3)\n",
            "Requirement already satisfied: propcache>=0.2.0 in /usr/local/lib/python3.11/dist-packages (from aiohttp<4.0.0,>=3.8.3->langchain==0.2.10->ragstack-ai-langchain==1.4.0->ragstack-ai-langchain[colbert,google,nvidia]==1.4.0->ragstack-ai) (0.3.2)\n",
            "Requirement already satisfied: yarl<2.0,>=1.17.0 in /usr/local/lib/python3.11/dist-packages (from aiohttp<4.0.0,>=3.8.3->langchain==0.2.10->ragstack-ai-langchain==1.4.0->ragstack-ai-langchain[colbert,google,nvidia]==1.4.0->ragstack-ai) (1.20.1)\n",
            "Requirement already satisfied: azure-core>=1.31.0 in /usr/local/lib/python3.11/dist-packages (from azure-identity<2.0.0,>=1.15.0->llama-index-llms-azure-openai==0.1.6->ragstack-ai-llamaindex[azure,bedrock,colbert,google]==1.0.8->ragstack-ai) (1.35.0)\n",
            "Requirement already satisfied: cryptography>=2.5 in /usr/local/lib/python3.11/dist-packages (from azure-identity<2.0.0,>=1.15.0->llama-index-llms-azure-openai==0.1.6->ragstack-ai-llamaindex[azure,bedrock,colbert,google]==1.0.8->ragstack-ai) (43.0.3)\n",
            "Requirement already satisfied: msal>=1.30.0 in /usr/local/lib/python3.11/dist-packages (from azure-identity<2.0.0,>=1.15.0->llama-index-llms-azure-openai==0.1.6->ragstack-ai-llamaindex[azure,bedrock,colbert,google]==1.0.8->ragstack-ai) (1.32.3)\n",
            "Requirement already satisfied: msal-extensions>=1.2.0 in /usr/local/lib/python3.11/dist-packages (from azure-identity<2.0.0,>=1.15.0->llama-index-llms-azure-openai==0.1.6->ragstack-ai-llamaindex[azure,bedrock,colbert,google]==1.0.8->ragstack-ai) (1.3.1)\n",
            "Requirement already satisfied: botocore<1.40.0,>=1.39.4 in /usr/local/lib/python3.11/dist-packages (from boto3<2.0.0,>=1.34.23->llama-index-embeddings-bedrock==0.1.4->ragstack-ai-llamaindex[azure,bedrock,colbert,google]==1.0.8->ragstack-ai) (1.39.4)\n",
            "Requirement already satisfied: jmespath<2.0.0,>=0.7.1 in /usr/local/lib/python3.11/dist-packages (from boto3<2.0.0,>=1.34.23->llama-index-embeddings-bedrock==0.1.4->ragstack-ai-llamaindex[azure,bedrock,colbert,google]==1.0.8->ragstack-ai) (1.0.1)\n",
            "Requirement already satisfied: s3transfer<0.14.0,>=0.13.0 in /usr/local/lib/python3.11/dist-packages (from boto3<2.0.0,>=1.34.23->llama-index-embeddings-bedrock==0.1.4->ragstack-ai-llamaindex[azure,bedrock,colbert,google]==1.0.8->ragstack-ai) (0.13.0)\n",
            "Requirement already satisfied: geomet<0.3,>=0.1 in /usr/local/lib/python3.11/dist-packages (from cassandra-driver<4.0.0,>=3.28.0->cassio<0.2.0,>=0.1.7->ragstack-ai-colbert==1.0.6->ragstack-ai) (0.2.1.post1)\n",
            "Requirement already satisfied: marshmallow<4.0.0,>=3.18.0 in /usr/local/lib/python3.11/dist-packages (from dataclasses-json<0.7,>=0.5.7->langchain-community==0.2.9->ragstack-ai-langchain==1.4.0->ragstack-ai-langchain[colbert,google,nvidia]==1.4.0->ragstack-ai) (3.26.1)\n",
            "Requirement already satisfied: google-api-core!=2.0.*,!=2.1.*,!=2.2.*,!=2.3.*,!=2.4.*,!=2.5.*,!=2.6.*,!=2.7.*,<3.0.0,>=1.34.1 in /usr/local/lib/python3.11/dist-packages (from google-api-core[grpc]!=2.0.*,!=2.1.*,!=2.2.*,!=2.3.*,!=2.4.*,!=2.5.*,!=2.6.*,!=2.7.*,<3.0.0,>=1.34.1->google-cloud-aiplatform<2.0.0,>=1.47.0->langchain-google-vertexai==1.0.5->ragstack-ai-langchain[colbert,google,nvidia]==1.4.0->ragstack-ai) (2.25.1)\n",
            "Requirement already satisfied: google-auth<3.0.0,>=2.14.1 in /usr/local/lib/python3.11/dist-packages (from google-cloud-aiplatform<2.0.0,>=1.47.0->langchain-google-vertexai==1.0.5->ragstack-ai-langchain[colbert,google,nvidia]==1.4.0->ragstack-ai) (2.38.0)\n",
            "Requirement already satisfied: proto-plus<2.0.0,>=1.22.3 in /usr/local/lib/python3.11/dist-packages (from google-cloud-aiplatform<2.0.0,>=1.47.0->langchain-google-vertexai==1.0.5->ragstack-ai-langchain[colbert,google,nvidia]==1.4.0->ragstack-ai) (1.26.1)\n",
            "Requirement already satisfied: protobuf!=4.21.0,!=4.21.1,!=4.21.2,!=4.21.3,!=4.21.4,!=4.21.5,<7.0.0,>=3.20.2 in /usr/local/lib/python3.11/dist-packages (from google-cloud-aiplatform<2.0.0,>=1.47.0->langchain-google-vertexai==1.0.5->ragstack-ai-langchain[colbert,google,nvidia]==1.4.0->ragstack-ai) (4.25.8)\n",
            "Requirement already satisfied: google-cloud-bigquery!=3.20.0,<4.0.0,>=1.15.0 in /usr/local/lib/python3.11/dist-packages (from google-cloud-aiplatform<2.0.0,>=1.47.0->langchain-google-vertexai==1.0.5->ragstack-ai-langchain[colbert,google,nvidia]==1.4.0->ragstack-ai) (3.34.0)\n",
            "Requirement already satisfied: google-cloud-resource-manager<3.0.0,>=1.3.3 in /usr/local/lib/python3.11/dist-packages (from google-cloud-aiplatform<2.0.0,>=1.47.0->langchain-google-vertexai==1.0.5->ragstack-ai-langchain[colbert,google,nvidia]==1.4.0->ragstack-ai) (1.14.2)\n",
            "Requirement already satisfied: shapely<3.0.0 in /usr/local/lib/python3.11/dist-packages (from google-cloud-aiplatform<2.0.0,>=1.47.0->langchain-google-vertexai==1.0.5->ragstack-ai-langchain[colbert,google,nvidia]==1.4.0->ragstack-ai) (2.1.1)\n",
            "Requirement already satisfied: google-genai<2.0.0,>=1.0.0 in /usr/local/lib/python3.11/dist-packages (from google-cloud-aiplatform<2.0.0,>=1.47.0->langchain-google-vertexai==1.0.5->ragstack-ai-langchain[colbert,google,nvidia]==1.4.0->ragstack-ai) (1.24.0)\n",
            "Requirement already satisfied: docstring_parser<1 in /usr/local/lib/python3.11/dist-packages (from google-cloud-aiplatform<2.0.0,>=1.47.0->langchain-google-vertexai==1.0.5->ragstack-ai-langchain[colbert,google,nvidia]==1.4.0->ragstack-ai) (0.16)\n",
            "Requirement already satisfied: google-cloud-core<3.0dev,>=2.3.0 in /usr/local/lib/python3.11/dist-packages (from google-cloud-storage<3.0.0,>=2.14.0->langchain-google-vertexai==1.0.5->ragstack-ai-langchain[colbert,google,nvidia]==1.4.0->ragstack-ai) (2.4.3)\n",
            "Requirement already satisfied: google-resumable-media>=2.7.2 in /usr/local/lib/python3.11/dist-packages (from google-cloud-storage<3.0.0,>=2.14.0->langchain-google-vertexai==1.0.5->ragstack-ai-langchain[colbert,google,nvidia]==1.4.0->ragstack-ai) (2.7.2)\n",
            "Requirement already satisfied: google-crc32c<2.0dev,>=1.0 in /usr/local/lib/python3.11/dist-packages (from google-cloud-storage<3.0.0,>=2.14.0->langchain-google-vertexai==1.0.5->ragstack-ai-langchain[colbert,google,nvidia]==1.4.0->ragstack-ai) (1.7.1)\n",
            "Requirement already satisfied: google-ai-generativelanguage==0.6.4 in /usr/local/lib/python3.11/dist-packages (from google-generativeai<0.6.0,>=0.5.2->langchain-google-genai==1.0.6->ragstack-ai-langchain[colbert,google,nvidia]==1.4.0->ragstack-ai) (0.6.4)\n",
            "Requirement already satisfied: google-api-python-client in /usr/local/lib/python3.11/dist-packages (from google-generativeai<0.6.0,>=0.5.2->langchain-google-genai==1.0.6->ragstack-ai-langchain[colbert,google,nvidia]==1.4.0->ragstack-ai) (2.176.0)\n",
            "Requirement already satisfied: anyio in /usr/local/lib/python3.11/dist-packages (from httpx->llama-index-core==0.10.57->ragstack-ai-llamaindex==1.0.8->ragstack-ai-llamaindex[azure,bedrock,colbert,google]==1.0.8->ragstack-ai) (4.9.0)\n",
            "Requirement already satisfied: certifi in /usr/local/lib/python3.11/dist-packages (from httpx->llama-index-core==0.10.57->ragstack-ai-llamaindex==1.0.8->ragstack-ai-llamaindex[azure,bedrock,colbert,google]==1.0.8->ragstack-ai) (2025.7.9)\n",
            "Requirement already satisfied: httpcore==1.* in /usr/local/lib/python3.11/dist-packages (from httpx->llama-index-core==0.10.57->ragstack-ai-llamaindex==1.0.8->ragstack-ai-llamaindex[azure,bedrock,colbert,google]==1.0.8->ragstack-ai) (1.0.9)\n",
            "Requirement already satisfied: idna in /usr/local/lib/python3.11/dist-packages (from httpx->llama-index-core==0.10.57->ragstack-ai-llamaindex==1.0.8->ragstack-ai-llamaindex[azure,bedrock,colbert,google]==1.0.8->ragstack-ai) (3.10)\n",
            "Requirement already satisfied: h11>=0.16 in /usr/local/lib/python3.11/dist-packages (from httpcore==1.*->httpx->llama-index-core==0.10.57->ragstack-ai-llamaindex==1.0.8->ragstack-ai-llamaindex[azure,bedrock,colbert,google]==1.0.8->ragstack-ai) (0.16.0)\n",
            "Requirement already satisfied: h2<5,>=3 in /usr/local/lib/python3.11/dist-packages (from httpx[http2]<1,>=0.25.2->astrapy<2,>=1->ragstack-ai-langchain==1.4.0->ragstack-ai-langchain[colbert,google,nvidia]==1.4.0->ragstack-ai) (4.2.0)\n",
            "Requirement already satisfied: jsonpointer>=1.9 in /usr/local/lib/python3.11/dist-packages (from jsonpatch<2.0,>=1.33->langchain-core==0.2.22->ragstack-ai-langchain==1.4.0->ragstack-ai-langchain[colbert,google,nvidia]==1.4.0->ragstack-ai) (3.0.0)\n",
            "Requirement already satisfied: orjson<4.0.0,>=3.9.14 in /usr/local/lib/python3.11/dist-packages (from langsmith<0.2.0,>=0.1.17->langchain==0.2.10->ragstack-ai-langchain==1.4.0->ragstack-ai-langchain[colbert,google,nvidia]==1.4.0->ragstack-ai) (3.10.18)\n",
            "Requirement already satisfied: requests-toolbelt<2.0.0,>=1.0.0 in /usr/local/lib/python3.11/dist-packages (from langsmith<0.2.0,>=0.1.17->langchain==0.2.10->ragstack-ai-langchain==1.4.0->ragstack-ai-langchain[colbert,google,nvidia]==1.4.0->ragstack-ai) (1.0.0)\n",
            "Requirement already satisfied: llama-cloud>=0.0.11 in /usr/local/lib/python3.11/dist-packages (from llama-index-indices-managed-llama-cloud>=0.2.0->llama-index==0.10.57->ragstack-ai-llamaindex==1.0.8->ragstack-ai-llamaindex[azure,bedrock,colbert,google]==1.0.8->ragstack-ai) (0.1.33)\n",
            "Requirement already satisfied: anthropic<0.29.0,>=0.26.2 in /usr/local/lib/python3.11/dist-packages (from llama-index-llms-anthropic<0.2.0,>=0.1.7->llama-index-llms-bedrock==0.1.7->ragstack-ai-llamaindex[azure,bedrock,colbert,google]==1.0.8->ragstack-ai) (0.28.1)\n",
            "Requirement already satisfied: pypdf<5.0.0,>=4.0.1 in /usr/local/lib/python3.11/dist-packages (from llama-index-readers-file<0.2.0,>=0.1.4->llama-index==0.10.57->ragstack-ai-llamaindex==1.0.8->ragstack-ai-llamaindex[azure,bedrock,colbert,google]==1.0.8->ragstack-ai) (4.3.1)\n",
            "Requirement already satisfied: striprtf<0.0.27,>=0.0.26 in /usr/local/lib/python3.11/dist-packages (from llama-index-readers-file<0.2.0,>=0.1.4->llama-index==0.10.57->ragstack-ai-llamaindex==1.0.8->ragstack-ai-llamaindex[azure,bedrock,colbert,google]==1.0.8->ragstack-ai) (0.0.26)\n",
            "Requirement already satisfied: soupsieve>1.2 in /usr/local/lib/python3.11/dist-packages (from beautifulsoup4->unstructured==0.14.5->ragstack-ai-langchain==1.4.0->ragstack-ai-langchain[colbert,google,nvidia]==1.4.0->ragstack-ai) (2.7)\n",
            "Requirement already satisfied: click in /usr/local/lib/python3.11/dist-packages (from nltk<4.0.0,>=3.8.1->llama-index-core==0.10.57->ragstack-ai-llamaindex==1.0.8->ragstack-ai-llamaindex[azure,bedrock,colbert,google]==1.0.8->ragstack-ai) (8.2.1)\n",
            "Requirement already satisfied: joblib in /usr/local/lib/python3.11/dist-packages (from nltk<4.0.0,>=3.8.1->llama-index-core==0.10.57->ragstack-ai-llamaindex==1.0.8->ragstack-ai-llamaindex[azure,bedrock,colbert,google]==1.0.8->ragstack-ai) (1.5.1)\n",
            "Requirement already satisfied: regex>=2021.8.3 in /usr/local/lib/python3.11/dist-packages (from nltk<4.0.0,>=3.8.1->llama-index-core==0.10.57->ragstack-ai-llamaindex==1.0.8->ragstack-ai-llamaindex[azure,bedrock,colbert,google]==1.0.8->ragstack-ai) (2024.11.6)\n",
            "Requirement already satisfied: distro<2,>=1.7.0 in /usr/local/lib/python3.11/dist-packages (from openai<2.0.0,>=1.26.0->langchain-openai==0.1.8->ragstack-ai-langchain==1.4.0->ragstack-ai-langchain[colbert,google,nvidia]==1.4.0->ragstack-ai) (1.9.0)\n",
            "Requirement already satisfied: jiter<1,>=0.4.0 in /usr/local/lib/python3.11/dist-packages (from openai<2.0.0,>=1.26.0->langchain-openai==0.1.8->ragstack-ai-langchain==1.4.0->ragstack-ai-langchain[colbert,google,nvidia]==1.4.0->ragstack-ai) (0.10.0)\n",
            "Requirement already satisfied: sniffio in /usr/local/lib/python3.11/dist-packages (from openai<2.0.0,>=1.26.0->langchain-openai==0.1.8->ragstack-ai-langchain==1.4.0->ragstack-ai-langchain[colbert,google,nvidia]==1.4.0->ragstack-ai) (1.3.1)\n",
            "Requirement already satisfied: dnspython<3.0.0,>=1.16.0 in /usr/local/lib/python3.11/dist-packages (from pymongo>=3->astrapy<2,>=1->ragstack-ai-langchain==1.4.0->ragstack-ai-langchain[colbert,google,nvidia]==1.4.0->ragstack-ai) (2.7.0)\n",
            "Requirement already satisfied: charset-normalizer<4,>=2 in /usr/local/lib/python3.11/dist-packages (from requests<3,>=2->langchain==0.2.10->ragstack-ai-langchain==1.4.0->ragstack-ai-langchain[colbert,google,nvidia]==1.4.0->ragstack-ai) (3.4.2)\n",
            "Requirement already satisfied: urllib3<3,>=1.21.1 in /usr/local/lib/python3.11/dist-packages (from requests<3,>=2->langchain==0.2.10->ragstack-ai-langchain==1.4.0->ragstack-ai-langchain[colbert,google,nvidia]==1.4.0->ragstack-ai) (2.4.0)\n",
            "Requirement already satisfied: greenlet>=1 in /usr/local/lib/python3.11/dist-packages (from SQLAlchemy<3,>=1.4->langchain==0.2.10->ragstack-ai-langchain==1.4.0->ragstack-ai-langchain[colbert,google,nvidia]==1.4.0->ragstack-ai) (3.2.3)\n",
            "Requirement already satisfied: mypy-extensions>=0.3.0 in /usr/local/lib/python3.11/dist-packages (from typing-inspect>=0.8.0->llama-index-core==0.10.57->ragstack-ai-llamaindex==1.0.8->ragstack-ai-llamaindex[azure,bedrock,colbert,google]==1.0.8->ragstack-ai) (1.1.0)\n",
            "Requirement already satisfied: dill<0.3.8,>=0.3.0 in /usr/local/lib/python3.11/dist-packages (from datasets->colbert-ai==0.2.19->ragstack-ai-colbert==1.0.6->ragstack-ai) (0.3.7)\n",
            "Requirement already satisfied: xxhash in /usr/local/lib/python3.11/dist-packages (from datasets->colbert-ai==0.2.19->ragstack-ai-colbert==1.0.6->ragstack-ai) (3.5.0)\n",
            "Requirement already satisfied: multiprocess in /usr/local/lib/python3.11/dist-packages (from datasets->colbert-ai==0.2.19->ragstack-ai-colbert==1.0.6->ragstack-ai) (0.70.15)\n",
            "Requirement already satisfied: huggingface-hub<1.0.0,>=0.14.0 in /usr/local/lib/python3.11/dist-packages (from datasets->colbert-ai==0.2.19->ragstack-ai-colbert==1.0.6->ragstack-ai) (0.33.2)\n",
            "Requirement already satisfied: blinker>=1.9.0 in /usr/local/lib/python3.11/dist-packages (from flask->colbert-ai==0.2.19->ragstack-ai-colbert==1.0.6->ragstack-ai) (1.9.0)\n",
            "Requirement already satisfied: itsdangerous>=2.2.0 in /usr/local/lib/python3.11/dist-packages (from flask->colbert-ai==0.2.19->ragstack-ai-colbert==1.0.6->ragstack-ai) (2.2.0)\n",
            "Requirement already satisfied: markupsafe>=2.1.1 in /usr/local/lib/python3.11/dist-packages (from flask->colbert-ai==0.2.19->ragstack-ai-colbert==1.0.6->ragstack-ai) (3.0.2)\n",
            "Requirement already satisfied: werkzeug>=3.1.0 in /usr/local/lib/python3.11/dist-packages (from flask->colbert-ai==0.2.19->ragstack-ai-colbert==1.0.6->ragstack-ai) (3.1.3)\n",
            "Requirement already satisfied: gitpython in /usr/local/lib/python3.11/dist-packages (from git-python->colbert-ai==0.2.19->ragstack-ai-colbert==1.0.6->ragstack-ai) (3.1.44)\n",
            "Requirement already satisfied: six in /usr/local/lib/python3.11/dist-packages (from langdetect->unstructured==0.14.5->ragstack-ai-langchain==1.4.0->ragstack-ai-langchain[colbert,google,nvidia]==1.4.0->ragstack-ai) (1.17.0)\n",
            "Requirement already satisfied: python-dateutil>=2.8.2 in /usr/local/lib/python3.11/dist-packages (from pandas->llama-index-core==0.10.57->ragstack-ai-llamaindex==1.0.8->ragstack-ai-llamaindex[azure,bedrock,colbert,google]==1.0.8->ragstack-ai) (2.9.0.post0)\n",
            "Requirement already satisfied: pytz>=2020.1 in /usr/local/lib/python3.11/dist-packages (from pandas->llama-index-core==0.10.57->ragstack-ai-llamaindex==1.0.8->ragstack-ai-llamaindex[azure,bedrock,colbert,google]==1.0.8->ragstack-ai) (2025.2)\n",
            "Requirement already satisfied: tzdata>=2022.7 in /usr/local/lib/python3.11/dist-packages (from pandas->llama-index-core==0.10.57->ragstack-ai-llamaindex==1.0.8->ragstack-ai-llamaindex[azure,bedrock,colbert,google]==1.0.8->ragstack-ai) (2025.2)\n",
            "Requirement already satisfied: mpmath<1.4,>=1.1.0 in /usr/local/lib/python3.11/dist-packages (from sympy->torch==2.2.1->ragstack-ai-colbert==1.0.6->ragstack-ai) (1.3.0)\n",
            "Requirement already satisfied: tokenizers<0.22,>=0.21 in /usr/local/lib/python3.11/dist-packages (from transformers->colbert-ai==0.2.19->ragstack-ai-colbert==1.0.6->ragstack-ai) (0.21.2)\n",
            "Requirement already satisfied: safetensors>=0.4.3 in /usr/local/lib/python3.11/dist-packages (from transformers->colbert-ai==0.2.19->ragstack-ai-colbert==1.0.6->ragstack-ai) (0.5.3)\n",
            "Requirement already satisfied: aiofiles>=24.1.0 in /usr/local/lib/python3.11/dist-packages (from unstructured-client->unstructured==0.14.5->ragstack-ai-langchain==1.4.0->ragstack-ai-langchain[colbert,google,nvidia]==1.4.0->ragstack-ai) (24.1.0)\n",
            "Requirement already satisfied: googleapis-common-protos<2.0.0,>=1.56.2 in /usr/local/lib/python3.11/dist-packages (from google-api-core!=2.0.*,!=2.1.*,!=2.2.*,!=2.3.*,!=2.4.*,!=2.5.*,!=2.6.*,!=2.7.*,<3.0.0,>=1.34.1->google-api-core[grpc]!=2.0.*,!=2.1.*,!=2.2.*,!=2.3.*,!=2.4.*,!=2.5.*,!=2.6.*,!=2.7.*,<3.0.0,>=1.34.1->google-cloud-aiplatform<2.0.0,>=1.47.0->langchain-google-vertexai==1.0.5->ragstack-ai-langchain[colbert,google,nvidia]==1.4.0->ragstack-ai) (1.70.0)\n",
            "Requirement already satisfied: grpcio<2.0.0,>=1.33.2 in /usr/local/lib/python3.11/dist-packages (from google-api-core[grpc]!=2.0.*,!=2.1.*,!=2.2.*,!=2.3.*,!=2.4.*,!=2.5.*,!=2.6.*,!=2.7.*,<3.0.0,>=1.34.1->google-cloud-aiplatform<2.0.0,>=1.47.0->langchain-google-vertexai==1.0.5->ragstack-ai-langchain[colbert,google,nvidia]==1.4.0->ragstack-ai) (1.73.1)\n",
            "Requirement already satisfied: grpcio-status<2.0.0,>=1.33.2 in /usr/local/lib/python3.11/dist-packages (from google-api-core[grpc]!=2.0.*,!=2.1.*,!=2.2.*,!=2.3.*,!=2.4.*,!=2.5.*,!=2.6.*,!=2.7.*,<3.0.0,>=1.34.1->google-cloud-aiplatform<2.0.0,>=1.47.0->langchain-google-vertexai==1.0.5->ragstack-ai-langchain[colbert,google,nvidia]==1.4.0->ragstack-ai) (1.62.3)\n",
            "Requirement already satisfied: cachetools<6.0,>=2.0.0 in /usr/local/lib/python3.11/dist-packages (from google-auth<3.0.0,>=2.14.1->google-cloud-aiplatform<2.0.0,>=1.47.0->langchain-google-vertexai==1.0.5->ragstack-ai-langchain[colbert,google,nvidia]==1.4.0->ragstack-ai) (5.5.2)\n",
            "Requirement already satisfied: pyasn1-modules>=0.2.1 in /usr/local/lib/python3.11/dist-packages (from google-auth<3.0.0,>=2.14.1->google-cloud-aiplatform<2.0.0,>=1.47.0->langchain-google-vertexai==1.0.5->ragstack-ai-langchain[colbert,google,nvidia]==1.4.0->ragstack-ai) (0.4.2)\n",
            "Requirement already satisfied: rsa<5,>=3.1.4 in /usr/local/lib/python3.11/dist-packages (from google-auth<3.0.0,>=2.14.1->google-cloud-aiplatform<2.0.0,>=1.47.0->langchain-google-vertexai==1.0.5->ragstack-ai-langchain[colbert,google,nvidia]==1.4.0->ragstack-ai) (4.9.1)\n",
            "Requirement already satisfied: grpc-google-iam-v1<1.0.0,>=0.14.0 in /usr/local/lib/python3.11/dist-packages (from google-cloud-resource-manager<3.0.0,>=1.3.3->google-cloud-aiplatform<2.0.0,>=1.47.0->langchain-google-vertexai==1.0.5->ragstack-ai-langchain[colbert,google,nvidia]==1.4.0->ragstack-ai) (0.14.2)\n",
            "Requirement already satisfied: websockets<15.1.0,>=13.0.0 in /usr/local/lib/python3.11/dist-packages (from google-genai<2.0.0,>=1.0.0->google-cloud-aiplatform<2.0.0,>=1.47.0->langchain-google-vertexai==1.0.5->ragstack-ai-langchain[colbert,google,nvidia]==1.4.0->ragstack-ai) (15.0.1)\n",
            "Requirement already satisfied: hyperframe<7,>=6.1 in /usr/local/lib/python3.11/dist-packages (from h2<5,>=3->httpx[http2]<1,>=0.25.2->astrapy<2,>=1->ragstack-ai-langchain==1.4.0->ragstack-ai-langchain[colbert,google,nvidia]==1.4.0->ragstack-ai) (6.1.0)\n",
            "Requirement already satisfied: hpack<5,>=4.1 in /usr/local/lib/python3.11/dist-packages (from h2<5,>=3->httpx[http2]<1,>=0.25.2->astrapy<2,>=1->ragstack-ai-langchain==1.4.0->ragstack-ai-langchain[colbert,google,nvidia]==1.4.0->ragstack-ai) (4.1.0)\n",
            "Requirement already satisfied: hf-xet<2.0.0,>=1.1.2 in /usr/local/lib/python3.11/dist-packages (from huggingface-hub<1.0.0,>=0.14.0->datasets->colbert-ai==0.2.19->ragstack-ai-colbert==1.0.6->ragstack-ai) (1.1.5)\n",
            "Requirement already satisfied: PyJWT<3,>=1.0.0 in /usr/local/lib/python3.11/dist-packages (from PyJWT[crypto]<3,>=1.0.0->msal>=1.30.0->azure-identity<2.0.0,>=1.15.0->llama-index-llms-azure-openai==0.1.6->ragstack-ai-llamaindex[azure,bedrock,colbert,google]==1.0.8->ragstack-ai) (2.10.1)\n",
            "Requirement already satisfied: gitdb<5,>=4.0.1 in /usr/local/lib/python3.11/dist-packages (from gitpython->git-python->colbert-ai==0.2.19->ragstack-ai-colbert==1.0.6->ragstack-ai) (4.0.12)\n",
            "Requirement already satisfied: httplib2<1.0.0,>=0.19.0 in /usr/local/lib/python3.11/dist-packages (from google-api-python-client->google-generativeai<0.6.0,>=0.5.2->langchain-google-genai==1.0.6->ragstack-ai-langchain[colbert,google,nvidia]==1.4.0->ragstack-ai) (0.22.0)\n",
            "Requirement already satisfied: google-auth-httplib2<1.0.0,>=0.2.0 in /usr/local/lib/python3.11/dist-packages (from google-api-python-client->google-generativeai<0.6.0,>=0.5.2->langchain-google-genai==1.0.6->ragstack-ai-langchain[colbert,google,nvidia]==1.4.0->ragstack-ai) (0.2.0)\n",
            "Requirement already satisfied: uritemplate<5,>=3.0.1 in /usr/local/lib/python3.11/dist-packages (from google-api-python-client->google-generativeai<0.6.0,>=0.5.2->langchain-google-genai==1.0.6->ragstack-ai-langchain[colbert,google,nvidia]==1.4.0->ragstack-ai) (4.2.0)\n",
            "Requirement already satisfied: smmap<6,>=3.0.1 in /usr/local/lib/python3.11/dist-packages (from gitdb<5,>=4.0.1->gitpython->git-python->colbert-ai==0.2.19->ragstack-ai-colbert==1.0.6->ragstack-ai) (5.0.2)\n",
            "Requirement already satisfied: pyparsing!=3.0.0,!=3.0.1,!=3.0.2,!=3.0.3,<4,>=2.4.2 in /usr/local/lib/python3.11/dist-packages (from httplib2<1.0.0,>=0.19.0->google-api-python-client->google-generativeai<0.6.0,>=0.5.2->langchain-google-genai==1.0.6->ragstack-ai-langchain[colbert,google,nvidia]==1.4.0->ragstack-ai) (3.2.3)\n",
            "Requirement already satisfied: pyasn1<0.7.0,>=0.6.1 in /usr/local/lib/python3.11/dist-packages (from pyasn1-modules>=0.2.1->google-auth<3.0.0,>=2.14.1->google-cloud-aiplatform<2.0.0,>=1.47.0->langchain-google-vertexai==1.0.5->ragstack-ai-langchain[colbert,google,nvidia]==1.4.0->ragstack-ai) (0.6.1)\n"
          ]
        }
      ]
    },
    {
      "cell_type": "code",
      "source": [
        "PROJECT_ID=\"project id\"\n",
        "Region=\"location\""
      ],
      "metadata": {
        "id": "FoRmCAs0AbPF"
      },
      "execution_count": 25,
      "outputs": []
    },
    {
      "cell_type": "code",
      "source": [
        "API_ENDPOINT=\"your \"\n",
        "ACCESS_TOKEN=\"your token\""
      ],
      "metadata": {
        "id": "i1V4rSqcGMfQ"
      },
      "execution_count": 26,
      "outputs": []
    },
    {
      "cell_type": "code",
      "source": [
        "import getpass ,os, requests\n",
        "if\"PROJECT_ID\" not in os.environ:\n",
        "  os.environ[\"PROJECT_ID\"]= getpass.getpass(\"provide you project id\")\n",
        "if \"Region\" not in os.environ:\n",
        "  os.environ[\"Region\"]= getpass.getpass(\"provide you Region\")\n",
        "\n",
        "if \"API_ENDPOINT\" not in os.environ:\n",
        "  os.environ[\"API_ENDPOINT\"]= getpass.getpass(\"provide you API_ENDPOINT\")\n",
        "if \"ACCESS_TOKEN\" not in os.environ:\n",
        "  os.environ[\"ACCESS_TOKEN\"]= getpass.getpass(\"provide you ACCESS_TOKEN\")\n"
      ],
      "metadata": {
        "id": "lrcXgByPZfNe"
      },
      "execution_count": 27,
      "outputs": []
    },
    {
      "cell_type": "code",
      "source": [
        "!gcloud config set project {os.getenv(\"PROJECT_ID\")}"
      ],
      "metadata": {
        "colab": {
          "base_uri": "https://localhost:8080/"
        },
        "id": "fLCsHmP1aMmQ",
        "outputId": "d65ff4af-de2c-4f3f-a955-ca984fa241ae"
      },
      "execution_count": 28,
      "outputs": [
        {
          "output_type": "stream",
          "name": "stdout",
          "text": [
            "Updated property [core/project].\n"
          ]
        }
      ]
    },
    {
      "cell_type": "code",
      "source": [
        "from google.colab import auth\n",
        "auth.authenticate_user()\n",
        "print('Authenticated')"
      ],
      "metadata": {
        "colab": {
          "base_uri": "https://localhost:8080/"
        },
        "id": "IatEgCmoeOYq",
        "outputId": "61402506-33b0-401b-d4be-bdb1847ce822"
      },
      "execution_count": 29,
      "outputs": [
        {
          "output_type": "stream",
          "name": "stdout",
          "text": [
            "Authenticated\n"
          ]
        }
      ]
    },
    {
      "cell_type": "code",
      "source": [
        "import sys\n",
        "if \"google.colab\" in sys.modules:\n",
        "  from google.colab import auth\n",
        "  auth.authenticate_user()\n",
        ""
      ],
      "metadata": {
        "id": "VzKCNUeNa-iR"
      },
      "execution_count": 30,
      "outputs": []
    },
    {
      "cell_type": "code",
      "source": [
        "!gcloud auth list"
      ],
      "metadata": {
        "colab": {
          "base_uri": "https://localhost:8080/"
        },
        "id": "wbjAB6twbayD",
        "outputId": "a31021a0-1364-4f85-8ae0-aa47df3f79b4"
      },
      "execution_count": 31,
      "outputs": [
        {
          "output_type": "stream",
          "name": "stdout",
          "text": [
            "   Credentialed Accounts\n",
            "ACTIVE  ACCOUNT\n",
            "*       msd24002@iiitl.ac.in\n",
            "\n",
            "To set the active account, run:\n",
            "    $ gcloud config set account `ACCOUNT`\n",
            "\n"
          ]
        }
      ]
    },
    {
      "cell_type": "code",
      "source": [
        "PROJECT_ID=os.getenv(\"PROJECT_ID\")\n",
        "LOCATION=os.getenv(\"Region\")\n",
        "\n"
      ],
      "metadata": {
        "id": "0CJsO_Sle806"
      },
      "execution_count": 32,
      "outputs": []
    },
    {
      "cell_type": "code",
      "source": [
        "import vertexai\n",
        "vertexai.init(project=PROJECT_ID,location=Region)"
      ],
      "metadata": {
        "id": "0jmeA8zRghtQ"
      },
      "execution_count": 34,
      "outputs": []
    },
    {
      "cell_type": "code",
      "source": [
        "from vertexai.preview.generative_models import (\n",
        "    GenerationConfig,\n",
        "    GenerativeModel,\n",
        "    HarmCategory,\n",
        "    HarmBlockThreshold,\n",
        "    Image,\n",
        "    Part\n",
        ")"
      ],
      "metadata": {
        "id": "V_F2tJl2gvX7"
      },
      "execution_count": 37,
      "outputs": []
    },
    {
      "cell_type": "code",
      "source": [
        "model =GenerativeModel(\"gemini 1.0-Pro\")"
      ],
      "metadata": {
        "colab": {
          "base_uri": "https://localhost:8080/"
        },
        "id": "6EjHMtCOhiPl",
        "outputId": "948cdfb6-5915-44b2-cfca-debdee849af5"
      },
      "execution_count": 47,
      "outputs": [
        {
          "output_type": "stream",
          "name": "stderr",
          "text": [
            "/root/.local/lib/python3.11/site-packages/vertexai/generative_models/_generative_models.py:433: UserWarning: This feature is deprecated as of June 24, 2025 and will be removed on June 24, 2026. For details, see https://cloud.google.com/vertex-ai/generative-ai/docs/deprecations/genai-vertexai-sdk.\n",
            "  warning_logs.show_deprecation_warning()\n"
          ]
        }
      ]
    },
    {
      "cell_type": "code",
      "source": [
        "responses=model.generate_content(\"why is the sky blue\",stream=True)"
      ],
      "metadata": {
        "id": "qxRx1ErykRMF"
      },
      "execution_count": 48,
      "outputs": []
    },
    {
      "cell_type": "code",
      "source": [
        "for response in responses:\n",
        "  print(response.text,end=\"\")"
      ],
      "metadata": {
        "id": "hRH73uQPkJcF"
      },
      "execution_count": null,
      "outputs": []
    },
    {
      "cell_type": "code",
      "source": [
        "prompt=\"\"\" Create a numbered list of 10 items ,each item in the list should be a trend in the and each trend should be less then 5 words.\"\"\""
      ],
      "metadata": {
        "id": "bBvFCYPdlG17"
      },
      "execution_count": 50,
      "outputs": []
    },
    {
      "cell_type": "code",
      "source": [
        "responses=model.generate_content(prompt,stream=True)"
      ],
      "metadata": {
        "id": "QVKBss2NljGw"
      },
      "execution_count": 51,
      "outputs": []
    },
    {
      "cell_type": "code",
      "source": [
        "for response in responses:\n",
        "  print(response.text,end=\"\")"
      ],
      "metadata": {
        "id": "Qi0CInA0mI_n"
      },
      "execution_count": null,
      "outputs": []
    },
    {
      "cell_type": "code",
      "source": [],
      "metadata": {
        "id": "RzRl-UTomOiu"
      },
      "execution_count": null,
      "outputs": []
    }
  ]
}